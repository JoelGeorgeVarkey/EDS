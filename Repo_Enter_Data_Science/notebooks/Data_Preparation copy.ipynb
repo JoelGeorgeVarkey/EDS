{
 "cells": [
  {
   "cell_type": "markdown",
   "metadata": {},
   "source": [
    "# Data Preparation V1 _ ReDo"
   ]
  },
  {
   "cell_type": "code",
   "execution_count": null,
   "metadata": {},
   "outputs": [],
   "source": [
    "!"
   ]
  }
 ],
 "metadata": {
  "kernelspec": {
   "display_name": "Python 3.10.5 ('EnterpriseDataScience': venv)",
   "language": "python",
   "name": "python3"
  },
  "language_info": {
   "codemirror_mode": {
    "name": "ipython",
    "version": 3
   },
   "file_extension": ".py",
   "mimetype": "text/x-python",
   "name": "python",
   "nbconvert_exporter": "python",
   "pygments_lexer": "ipython3",
   "version": "3.10.5"
  },
  "orig_nbformat": 4,
  "vscode": {
   "interpreter": {
    "hash": "e32174efad773c54c6d7bd788bb41b0e44b64ee2833b3ceb1505bd57e53a4405"
   }
  }
 },
 "nbformat": 4,
 "nbformat_minor": 2
}
